{
 "cells": [
  {
   "cell_type": "code",
   "execution_count": 53,
   "metadata": {},
   "outputs": [],
   "source": [
    "import re\n",
    "import pickle"
   ]
  },
  {
   "cell_type": "code",
   "execution_count": 54,
   "metadata": {},
   "outputs": [],
   "source": [
    "with open('neutral_politics_top_100_comment_bodies.pkl', 'rb') as f:\n",
    "    comments = pickle.load(f)"
   ]
  },
  {
   "cell_type": "code",
   "execution_count": 55,
   "metadata": {},
   "outputs": [
    {
     "data": {
      "text/plain": [
       "30530"
      ]
     },
     "execution_count": 55,
     "metadata": {},
     "output_type": "execute_result"
    }
   ],
   "source": [
    "len(comments)"
   ]
  },
  {
   "cell_type": "code",
   "execution_count": 56,
   "metadata": {},
   "outputs": [],
   "source": [
    "unq_comments = list(set(comments))"
   ]
  },
  {
   "cell_type": "code",
   "execution_count": 57,
   "metadata": {},
   "outputs": [
    {
     "data": {
      "text/plain": [
       "30530"
      ]
     },
     "execution_count": 57,
     "metadata": {},
     "output_type": "execute_result"
    }
   ],
   "source": [
    "len(unq_comments)"
   ]
  },
  {
   "cell_type": "code",
   "execution_count": 63,
   "metadata": {},
   "outputs": [
    {
     "data": {
      "text/plain": [
       "'Nobody seems to have brought up CrowdStrike, ThreatConnect, and SecureWorks. The evidence they present is pretty convincing.\\n\\nhttps://www.secureworks.com/research/threat-group-4127-targets-google-accounts\\n\\nhttps://www.secureworks.com/research/threat-group-4127-targets-hillary-clinton-presidential-campaign\\n\\nhttps://www.crowdstrike.com/blog/bears-midst-intrusion-democratic-national-committee/\\n\\nhttps://www.crowdstrike.com/blog/who-is-fancy-bear/\\n\\nhttps://www.crowdstrike.com/blog/bear-hunting-tracking-cozybear-backdoors/\\n\\nhttps://www.threatconnect.com/blog/tapping-into-democratic-national-committee/\\n\\nhttps://www.threatconnect.com/blog/guccifer-2-0-dnc-breach/\\n\\nhttps://www.threatconnect.com/blog/whats-in-a-name-server/\\n\\nhttps://www.threatconnect.com/blog/reassesing-guccifer-2-0-recent-claims/\\n\\nhttps://www.threatconnect.com/blog/guccifer-2-all-roads-lead-russia/\\n\\nhttps://www.threatconnect.com/blog/fancy-bear-it-itch-they-cant-scratch/\\n\\nhttps://www.threatconnect.com/blog/does-a-bear-leak-in-the-woods/\\n\\n\\n'"
      ]
     },
     "execution_count": 63,
     "metadata": {},
     "output_type": "execute_result"
    }
   ],
   "source": [
    "unq_comments[200]"
   ]
  },
  {
   "cell_type": "code",
   "execution_count": 59,
   "metadata": {},
   "outputs": [],
   "source": [
    "# Actual cleaning -- remove \\ns, put all lower case, remove links, cleaning up some punctuation\n",
    "# to try to clean up categorizing and generation\n",
    "\n",
    "def clean_comments(comment_list):\n",
    "    all_comments_clean = [comment.replace('\\n', ' ') for comment in comment_list]\n",
    "    all_comments_clean = [comment.lower() for comment in all_comments_clean]\n",
    "    all_comments_clean = [re.sub(r']\\(.+?\\)', ' ', comment) for comment in all_comments_clean]\n",
    "    all_comments_clean = [re.sub(r'http.+?\\s', ' ', comment) for comment in all_comments_clean]\n",
    "    all_comments_clean = [re.sub(r'http.+?$', ' ', comment) for comment in all_comments_clean]\n",
    "    all_comments_clean = [re.sub(r'www.+?\\s', ' ', comment) for comment in all_comments_clean]\n",
    "    all_comments_clean = [re.sub(r'www.+?$', ' ', comment) for comment in all_comments_clean]\n",
    "    all_comments_clean = [re.sub(r'[*�_#!~@''\"\"():;<>\\/\\[\\]?•-]', '', comment) for comment in all_comments_clean]\n",
    "    return all_comments_clean"
   ]
  },
  {
   "cell_type": "code",
   "execution_count": 60,
   "metadata": {},
   "outputs": [],
   "source": [
    "all_comments_clean = clean_comments(unq_comments)"
   ]
  },
  {
   "cell_type": "code",
   "execution_count": 64,
   "metadata": {},
   "outputs": [
    {
     "data": {
      "text/plain": [
       "'nobody seems to have brought up crowdstrike, threatconnect, and secureworks. the evidence they present is pretty convincing.                           '"
      ]
     },
     "execution_count": 64,
     "metadata": {},
     "output_type": "execute_result"
    }
   ],
   "source": [
    "all_comments_clean[200]"
   ]
  },
  {
   "cell_type": "code",
   "execution_count": 65,
   "metadata": {},
   "outputs": [],
   "source": [
    "with open('neutral_politics_top_100_comment_bodies_clean.pkl', 'wb') as f:\n",
    "    pickle.dump(all_comments_clean, f)"
   ]
  },
  {
   "cell_type": "code",
   "execution_count": null,
   "metadata": {},
   "outputs": [],
   "source": []
  }
 ],
 "metadata": {
  "kernelspec": {
   "display_name": "Python 3",
   "language": "python",
   "name": "python3"
  },
  "language_info": {
   "codemirror_mode": {
    "name": "ipython",
    "version": 3
   },
   "file_extension": ".py",
   "mimetype": "text/x-python",
   "name": "python",
   "nbconvert_exporter": "python",
   "pygments_lexer": "ipython3",
   "version": "3.6.5"
  }
 },
 "nbformat": 4,
 "nbformat_minor": 2
}
